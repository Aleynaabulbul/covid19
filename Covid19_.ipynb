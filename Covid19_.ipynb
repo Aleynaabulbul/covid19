{
  "nbformat": 4,
  "nbformat_minor": 0,
  "metadata": {
    "colab": {
      "name": "Covid19_07062021.ipynb",
      "provenance": [],
      "collapsed_sections": [],
      "include_colab_link": true
    },
    "kernelspec": {
      "name": "python3",
      "display_name": "Python 3"
    },
    "language_info": {
      "name": "python"
    },
    "accelerator": "GPU"
  },
  "cells": [
    {
      "cell_type": "markdown",
      "metadata": {
        "id": "view-in-github",
        "colab_type": "text"
      },
      "source": [
        "<a href=\"https://colab.research.google.com/github/Aleynaabulbul/covid19/blob/main/Covid19_.ipynb\" target=\"_parent\"><img src=\"https://colab.research.google.com/assets/colab-badge.svg\" alt=\"Open In Colab\"/></a>"
      ]
    },
    {
      "cell_type": "code",
      "metadata": {
        "colab": {
          "base_uri": "https://localhost:8080/"
        },
        "id": "Pn8CI_fFxqqz",
        "outputId": "2d386eda-a2d7-4193-e5af-e7d390e08dcc"
      },
      "source": [
        "import numpy as np\n",
        "import os, sys\n",
        "import pandas as pd\n",
        "import matplotlib.pyplot as plt\n",
        "pd.set_option('display.float_format', '{:.2f}'.format)\n",
        "from google.colab import drive\n",
        "drive.mount('/content/drive')"
      ],
      "execution_count": 1,
      "outputs": [
        {
          "output_type": "stream",
          "text": [
            "Drive already mounted at /content/drive; to attempt to forcibly remount, call drive.mount(\"/content/drive\", force_remount=True).\n"
          ],
          "name": "stdout"
        }
      ]
    },
    {
      "cell_type": "code",
      "metadata": {
        "id": "effELU6pxxPw"
      },
      "source": [
        "# Load data\n",
        "\n",
        "dfcovid = pd.read_csv('/content/drive/MyDrive/aleyna/covid.csv')\n",
        "dfvac = pd.read_csv('/content/drive/MyDrive/aleyna/country_vaccinations.csv')\n",
        "dfpop = pd.read_csv('/content/drive/MyDrive/aleyna/pop.csv')\n",
        "dfpop65up = pd.read_csv('/content/drive/MyDrive/aleyna/pop65up.csv')\n",
        "dfgdp = pd.read_csv('/content/drive/MyDrive/aleyna/gdp.csv')"
      ],
      "execution_count": 2,
      "outputs": []
    },
    {
      "cell_type": "code",
      "metadata": {
        "id": "8aP4PKhwyGLK"
      },
      "source": [
        "dfpop = dfpop[['Country Name','Country Code', '2018']]\n",
        "dfpop = dfpop.rename(columns={'2018':'Population'})\n",
        "merge1 = pd.merge(dfcovid, dfpop, left_on=['Country'], right_on = ['Country Name'], how='left')\n",
        "dfgdp = dfgdp[['Country Name','2018']]\n",
        "dfgdp = dfgdp.rename(columns={'2018':'GDP'})\n",
        "merge1.loc[merge1['Country'] == 'US','Country'] = 'United States'\n",
        "dfgdp.loc[dfgdp['Country Name'] == 'US','Country'] = 'Russia'\n",
        "merge2 = pd.merge(merge1, dfgdp, left_on=['Country'], right_on = ['Country Name'], how='left')\n",
        "merge2 = merge2.drop(columns = {'Country_y', 'Country Name_y'})\n",
        "merge2 = merge2.rename(columns={'Country_x':'Country'})\n",
        "dfvac = dfvac[['country','date','people_vaccinated']]\n",
        "dfvac['people_vaccinated'] = dfvac.groupby('country')['people_vaccinated'].ffill()\n",
        "merge3 = pd.merge(merge2, dfvac, left_on=['Date','Country'], right_on=['date','country'], how='left')\n",
        "merge3 = merge3.drop(columns = {'country','date'})\n",
        "merge3.loc[merge3['people_vaccinated'].isna()==True, 'people_vaccinated'] = 0\n",
        "dfcovid_turkey = merge3[merge3['Country']== 'Turkey'].reset_index(drop=True)\n",
        "test = dfcovid_turkey[dfcovid_turkey['Date'] >= '2021-03-01'].reset_index(drop=True)\n",
        "train = merge3[merge3['Date'] < '2021-03-01'].reset_index(drop=True)\n",
        "dataset = pd.concat([train,test]).reset_index(drop=True)\n",
        "dataset2 = dataset.drop(columns = {'Date','Country','Country Code'})\n",
        "dataset2['GDP'] = dataset2['GDP']/1000000000\n",
        "dataset2.loc[dataset2['Population'].isna()==True,'Population'] = int(dataset2['Population'].mean())\n",
        "dataset2.loc[dataset2['GDP'].isna()==True,'GDP'] = int(dataset2['GDP'].mean())"
      ],
      "execution_count": 3,
      "outputs": []
    },
    {
      "cell_type": "code",
      "metadata": {
        "colab": {
          "base_uri": "https://localhost:8080/",
          "height": 423
        },
        "id": "P1-siul_b6zj",
        "outputId": "b3ac5178-5523-4c58-d185-4087511f095e"
      },
      "source": [
        "dataset2"
      ],
      "execution_count": 4,
      "outputs": [
        {
          "output_type": "execute_result",
          "data": {
            "text/html": [
              "<div>\n",
              "<style scoped>\n",
              "    .dataframe tbody tr th:only-of-type {\n",
              "        vertical-align: middle;\n",
              "    }\n",
              "\n",
              "    .dataframe tbody tr th {\n",
              "        vertical-align: top;\n",
              "    }\n",
              "\n",
              "    .dataframe thead th {\n",
              "        text-align: right;\n",
              "    }\n",
              "</style>\n",
              "<table border=\"1\" class=\"dataframe\">\n",
              "  <thead>\n",
              "    <tr style=\"text-align: right;\">\n",
              "      <th></th>\n",
              "      <th>Confirmed</th>\n",
              "      <th>Recovered</th>\n",
              "      <th>Deaths</th>\n",
              "      <th>Country Name_x</th>\n",
              "      <th>Population</th>\n",
              "      <th>GDP</th>\n",
              "      <th>people_vaccinated</th>\n",
              "    </tr>\n",
              "  </thead>\n",
              "  <tbody>\n",
              "    <tr>\n",
              "      <th>0</th>\n",
              "      <td>0</td>\n",
              "      <td>0</td>\n",
              "      <td>0</td>\n",
              "      <td>Afghanistan</td>\n",
              "      <td>37172386.00</td>\n",
              "      <td>19.36</td>\n",
              "      <td>0.00</td>\n",
              "    </tr>\n",
              "    <tr>\n",
              "      <th>1</th>\n",
              "      <td>0</td>\n",
              "      <td>0</td>\n",
              "      <td>0</td>\n",
              "      <td>Afghanistan</td>\n",
              "      <td>37172386.00</td>\n",
              "      <td>19.36</td>\n",
              "      <td>0.00</td>\n",
              "    </tr>\n",
              "    <tr>\n",
              "      <th>2</th>\n",
              "      <td>0</td>\n",
              "      <td>0</td>\n",
              "      <td>0</td>\n",
              "      <td>Afghanistan</td>\n",
              "      <td>37172386.00</td>\n",
              "      <td>19.36</td>\n",
              "      <td>0.00</td>\n",
              "    </tr>\n",
              "    <tr>\n",
              "      <th>3</th>\n",
              "      <td>0</td>\n",
              "      <td>0</td>\n",
              "      <td>0</td>\n",
              "      <td>Afghanistan</td>\n",
              "      <td>37172386.00</td>\n",
              "      <td>19.36</td>\n",
              "      <td>0.00</td>\n",
              "    </tr>\n",
              "    <tr>\n",
              "      <th>4</th>\n",
              "      <td>0</td>\n",
              "      <td>0</td>\n",
              "      <td>0</td>\n",
              "      <td>Afghanistan</td>\n",
              "      <td>37172386.00</td>\n",
              "      <td>19.36</td>\n",
              "      <td>0.00</td>\n",
              "    </tr>\n",
              "    <tr>\n",
              "      <th>...</th>\n",
              "      <td>...</td>\n",
              "      <td>...</td>\n",
              "      <td>...</td>\n",
              "      <td>...</td>\n",
              "      <td>...</td>\n",
              "      <td>...</td>\n",
              "      <td>...</td>\n",
              "    </tr>\n",
              "    <tr>\n",
              "      <th>77632</th>\n",
              "      <td>4929118</td>\n",
              "      <td>4554037</td>\n",
              "      <td>41527</td>\n",
              "      <td>Turkey</td>\n",
              "      <td>82319724.00</td>\n",
              "      <td>771.35</td>\n",
              "      <td>14132161.00</td>\n",
              "    </tr>\n",
              "    <tr>\n",
              "      <th>77633</th>\n",
              "      <td>4955594</td>\n",
              "      <td>4589501</td>\n",
              "      <td>41883</td>\n",
              "      <td>Turkey</td>\n",
              "      <td>82319724.00</td>\n",
              "      <td>771.35</td>\n",
              "      <td>14264014.00</td>\n",
              "    </tr>\n",
              "    <tr>\n",
              "      <th>77634</th>\n",
              "      <td>4977982</td>\n",
              "      <td>4626799</td>\n",
              "      <td>42187</td>\n",
              "      <td>Turkey</td>\n",
              "      <td>82319724.00</td>\n",
              "      <td>771.35</td>\n",
              "      <td>14391595.00</td>\n",
              "    </tr>\n",
              "    <tr>\n",
              "      <th>77635</th>\n",
              "      <td>4998089</td>\n",
              "      <td>4662328</td>\n",
              "      <td>42465</td>\n",
              "      <td>Turkey</td>\n",
              "      <td>82319724.00</td>\n",
              "      <td>771.35</td>\n",
              "      <td>14476881.00</td>\n",
              "    </tr>\n",
              "    <tr>\n",
              "      <th>77636</th>\n",
              "      <td>5016141</td>\n",
              "      <td>4691224</td>\n",
              "      <td>42746</td>\n",
              "      <td>Turkey</td>\n",
              "      <td>82319724.00</td>\n",
              "      <td>771.35</td>\n",
              "      <td>14545524.00</td>\n",
              "    </tr>\n",
              "  </tbody>\n",
              "</table>\n",
              "<p>77637 rows × 7 columns</p>\n",
              "</div>"
            ],
            "text/plain": [
              "       Confirmed  Recovered  Deaths  ...  Population    GDP  people_vaccinated\n",
              "0              0          0       0  ... 37172386.00  19.36               0.00\n",
              "1              0          0       0  ... 37172386.00  19.36               0.00\n",
              "2              0          0       0  ... 37172386.00  19.36               0.00\n",
              "3              0          0       0  ... 37172386.00  19.36               0.00\n",
              "4              0          0       0  ... 37172386.00  19.36               0.00\n",
              "...          ...        ...     ...  ...         ...    ...                ...\n",
              "77632    4929118    4554037   41527  ... 82319724.00 771.35        14132161.00\n",
              "77633    4955594    4589501   41883  ... 82319724.00 771.35        14264014.00\n",
              "77634    4977982    4626799   42187  ... 82319724.00 771.35        14391595.00\n",
              "77635    4998089    4662328   42465  ... 82319724.00 771.35        14476881.00\n",
              "77636    5016141    4691224   42746  ... 82319724.00 771.35        14545524.00\n",
              "\n",
              "[77637 rows x 7 columns]"
            ]
          },
          "metadata": {
            "tags": []
          },
          "execution_count": 4
        }
      ]
    },
    {
      "cell_type": "code",
      "metadata": {
        "colab": {
          "base_uri": "https://localhost:8080/"
        },
        "id": "lBZJnTv2bs9N",
        "outputId": "cae4dc56-1db6-42af-b2b3-4283167fd137"
      },
      "source": [
        "# Turkey and Italy Model\n",
        "\n",
        "turkeyitaly = dataset2[(dataset2['Country Name_x']== 'Turkey') | (dataset2['Country Name_x']== 'Italy') ].reset_index(drop=True)\n",
        "\n",
        "X_test = turkeyitaly[-52:].drop(columns={'Confirmed', 'Country Name_x'}).reset_index(drop=True)\n",
        "X_train = turkeyitaly[0:450].drop(columns={'Confirmed', 'Country Name_x'}).reset_index(drop=True)\n",
        "\n",
        "y_train = turkeyitaly[0:450]['Confirmed'].to_numpy().reshape(-1,1)\n",
        "y_test = turkeyitaly[-52:]['Confirmed'].to_numpy().reshape(-1,1)\n",
        "\n",
        "#Model creation and predictions\n",
        "from sklearn import datasets, linear_model\n",
        "from sklearn.metrics import mean_squared_error, r2_score\n",
        "\n",
        "regr = linear_model.LinearRegression()\n",
        "regr.fit(X_train, y_train)\n",
        "\n",
        "y_pred = regr.predict(X_test)\n",
        "\n",
        "print('Coefficients: \\n', regr.coef_)\n",
        "\n",
        "# The mean squared error\n",
        "print('Mean squared error: %.2f' % mean_squared_error(y_test, y_pred))\n",
        "\n",
        "# The coefficient of determination: 1 is perfect prediction\n",
        "print('Coefficient of determination: %.2f' % r2_score(y_test, y_pred))"
      ],
      "execution_count": 5,
      "outputs": [
        {
          "output_type": "stream",
          "text": [
            "Coefficients: \n",
            " [[ 1.48686354e+00  2.05039036e+00  1.99789104e-04 -1.19800762e-08\n",
            "  -3.82360687e-01]]\n",
            "Mean squared error: 8622323940619.66\n",
            "Coefficient of determination: -16.95\n"
          ],
          "name": "stdout"
        }
      ]
    },
    {
      "cell_type": "code",
      "metadata": {
        "colab": {
          "base_uri": "https://localhost:8080/"
        },
        "id": "lyf0O39-O7EP",
        "outputId": "480a5322-b51f-4c01-b2eb-1a52d8b50b96"
      },
      "source": [
        "#Turkey only model\n",
        "\n",
        "turkey = dataset2[dataset2['Country Name_x'] == 'Turkey'].reset_index(drop=True)\n",
        "\n",
        "X_test = turkey[-52:].drop(columns={'Confirmed', 'Country Name_x'}).reset_index(drop=True)\n",
        "X_train = turkey[0:450].drop(columns={'Confirmed', 'Country Name_x'}).reset_index(drop=True)\n",
        "\n",
        "y_train = turkey[0:450]['Confirmed'].to_numpy().reshape(-1,1)\n",
        "y_test = turkey[-52:]['Confirmed'].to_numpy().reshape(-1,1)\n",
        "\n",
        "from sklearn import datasets, linear_model\n",
        "from sklearn.metrics import mean_squared_error, r2_score\n",
        "\n",
        "regr = linear_model.LinearRegression()\n",
        "regr.fit(X_train, y_train)\n",
        "\n",
        "y_pred = regr.predict(X_test)\n",
        "\n",
        "print('Coefficients: \\n', regr.coef_)\n",
        "\n",
        "# The mean squared error\n",
        "print('Mean squared error: %.2f' % mean_squared_error(y_test, y_pred))\n",
        "\n",
        "# The coefficient of determination: 1 is perfect prediction\n",
        "print('Coefficient of determination: %.2f' % r2_score(y_test, y_pred))"
      ],
      "execution_count": 6,
      "outputs": [
        {
          "output_type": "stream",
          "text": [
            "Coefficients: \n",
            " [[8.93710626e-01 1.59635999e+01 0.00000000e+00 1.53780911e-31\n",
            "  1.17049970e-02]]\n",
            "Mean squared error: 27909662814.87\n",
            "Coefficient of determination: 0.94\n"
          ],
          "name": "stdout"
        }
      ]
    },
    {
      "cell_type": "code",
      "metadata": {
        "colab": {
          "base_uri": "https://localhost:8080/"
        },
        "id": "rgYciemH1hiI",
        "outputId": "ace3f0c3-fe13-4a08-f63b-d4373913f905"
      },
      "source": [
        "y_pred = regr.predict(X_test)\n",
        ">>> print('predicted response:', y_pred, sep='\\n')"
      ],
      "execution_count": 7,
      "outputs": [
        {
          "output_type": "stream",
          "text": [
            "predicted response:\n",
            "[[3028669.66465877]\n",
            " [3046441.54254895]\n",
            " [3064870.91645789]\n",
            " [3082260.87841585]\n",
            " [3101879.41961273]\n",
            " [3121779.74666535]\n",
            " [3140467.72194009]\n",
            " [3160473.21176469]\n",
            " [3181354.96536714]\n",
            " [3200901.92687928]\n",
            " [3218684.00684563]\n",
            " [3239042.2180269 ]\n",
            " [3262173.88017028]\n",
            " [3286202.24087062]\n",
            " [3310098.20633596]\n",
            " [3336034.52459342]\n",
            " [3361683.43289027]\n",
            " [3385693.67203048]\n",
            " [3414602.41467397]\n",
            " [3446854.42183998]\n",
            " [3486163.61709601]\n",
            " [3527299.17785777]\n",
            " [3565080.89249993]\n",
            " [3599153.6324598 ]\n",
            " [3630409.81434998]\n",
            " [3673483.49566168]\n",
            " [3727679.69412453]\n",
            " [3783621.81881682]\n",
            " [3839199.69263662]\n",
            " [3898182.54640573]\n",
            " [3950743.92725277]\n",
            " [3995374.2920427 ]\n",
            " [4045474.51572748]\n",
            " [4102626.67529112]\n",
            " [4156988.45427093]\n",
            " [4223673.0827652 ]\n",
            " [4284611.75353043]\n",
            " [4338797.19211969]\n",
            " [4390801.05548795]\n",
            " [4440712.98384116]\n",
            " [4488098.28161841]\n",
            " [4535454.79461984]\n",
            " [4581085.76781787]\n",
            " [4649082.14205566]\n",
            " [4728163.50535778]\n",
            " [4801347.40953279]\n",
            " [4840120.27986572]\n",
            " [4881960.90109192]\n",
            " [4920881.83525525]\n",
            " [4960561.72376353]\n",
            " [4997750.52173076]\n",
            " [5028864.42165313]]\n"
          ],
          "name": "stdout"
        }
      ]
    },
    {
      "cell_type": "code",
      "metadata": {
        "id": "MUCPjiQe_IHL"
      },
      "source": [
        "df=regr.score(X_test,y_test)\n",
        "print(df)\n",
        "dff=regr.score(X_train,y_train)\n",
        "print(dff)"
      ],
      "execution_count": null,
      "outputs": []
    },
    {
      "cell_type": "code",
      "metadata": {
        "id": "luP4EgY_zIBf"
      },
      "source": [
        "X_train = dataset2[0:77568].drop(columns={'Confirmed'})\n",
        "y_train = dataset2[0:77568]['Confirmed']\n",
        "X_test = dataset2[77568:].drop(columns={'Confirmed'})\n",
        "y_test = dataset2[77568:]['Confirmed']\n",
        "\n",
        "y_train = y_train.to_numpy().reshape(-1,1)\n",
        "y_test = y_test.to_numpy().reshape(-1,1)\n"
      ],
      "execution_count": null,
      "outputs": []
    },
    {
      "cell_type": "code",
      "metadata": {
        "id": "aU7iX2-a2LVm"
      },
      "source": [
        "regr.predict(y_train)"
      ],
      "execution_count": null,
      "outputs": []
    },
    {
      "cell_type": "code",
      "metadata": {
        "id": "mOvRQnYLzJFZ"
      },
      "source": [
        "from sklearn import datasets, linear_model\n",
        "from sklearn.metrics import mean_squared_error, r2_score\n",
        "\n",
        "regr = linear_model.LinearRegression()\n",
        "regr.fit(X_train, y_train)\n",
        "\n",
        "y_pred = regr.predict(X_test)"
      ],
      "execution_count": null,
      "outputs": []
    },
    {
      "cell_type": "code",
      "metadata": {
        "id": "RxH3ySpV0uZ7"
      },
      "source": [
        "X_train.shape, X_test.shape, y_train.shape, y_test.shape"
      ],
      "execution_count": null,
      "outputs": []
    },
    {
      "cell_type": "code",
      "metadata": {
        "id": "2u0hy_us0wfe"
      },
      "source": [
        "#Model creation and predictions\n",
        "from sklearn import datasets, linear_model\n",
        "from sklearn.metrics import mean_squared_error, r2_score\n",
        "\n",
        "regr = linear_model.LinearRegression()\n",
        "regr.fit(X_train, y_train)\n",
        "\n",
        "y_pred = regr.predict(X_test)\n",
        "\n",
        "print('Coefficients: \\n', regr.coef_)\n",
        "\n",
        "# The mean squared error\n",
        "print('Mean squared error: %.2f' % mean_squared_error(y_test, y_pred))\n",
        "\n",
        "# The coefficient of determination: 1 is perfect prediction\n",
        "print('Coefficient of determination: %.2f' % r2_score(y_test, y_pred))"
      ],
      "execution_count": null,
      "outputs": []
    },
    {
      "cell_type": "code",
      "metadata": {
        "id": "a1RelBcO2Duc"
      },
      "source": [
        ""
      ],
      "execution_count": null,
      "outputs": []
    }
  ]
}